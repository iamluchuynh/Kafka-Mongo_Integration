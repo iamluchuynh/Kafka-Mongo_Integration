{
 "cells": [
  {
   "cell_type": "code",
   "execution_count": 1,
   "metadata": {},
   "outputs": [],
   "source": [
    "from confluent_kafka import Producer, Consumer, KafkaError\n",
    "from pymongo import MongoClient\n",
    "import time"
   ]
  },
  {
   "cell_type": "markdown",
   "metadata": {},
   "source": [
    "### CẤU HÌNH KAFKA"
   ]
  },
  {
   "cell_type": "code",
   "execution_count": 2,
   "metadata": {},
   "outputs": [],
   "source": [
    "kafka_config = {\n",
    "    'bootstrap.servers': 'localhost:9094, localhost:9194, localhost:9294',\n",
    "    'security.protocol': 'SASL_PLAINTEXT',\n",
    "    'sasl.mechanism': 'PLAIN',\n",
    "    'sasl.username': 'kafka',\n",
    "    'sasl.password': 'UnigapKafka@2024'\n",
    "}"
   ]
  },
  {
   "cell_type": "markdown",
   "metadata": {},
   "source": [
    "### KẾT NỐI MONGODB"
   ]
  },
  {
   "cell_type": "code",
   "execution_count": 3,
   "metadata": {},
   "outputs": [
    {
     "name": "stdout",
     "output_type": "stream",
     "text": [
      "Kết nối MongoDB thành công\n"
     ]
    }
   ],
   "source": [
    "# Connect to MongoDB\n",
    "mongo_client = MongoClient('mongodb://localhost:27017/')\n",
    "db = mongo_client['Kafka_MongoDB']\n",
    "collection = db['Messages']\n",
    "\n",
    "print(\"Kết nối MongoDB thành công\")"
   ]
  },
  {
   "cell_type": "markdown",
   "metadata": {},
   "source": [
    "### HÀM CALLBACK BÁO CÁO TRẠNG THÁI PRODUCER"
   ]
  },
  {
   "cell_type": "code",
   "execution_count": 4,
   "metadata": {},
   "outputs": [],
   "source": [
    "def delivery_report(err, msg):\n",
    "    \"\"\"Callback báo cáo trạng thái gửi message\"\"\"\n",
    "    if err is not None:\n",
    "        print(f\"Message delivery failed: {err}\")\n",
    "    else:\n",
    "        print(f\"Message delivered to {msg.topic()} [{msg.partition()}] at offset {msg.offset()}\")"
   ]
  },
  {
   "cell_type": "markdown",
   "metadata": {},
   "source": [
    "### HÀM GỬI DỮ LIỆU VÀO KAFKA (PRODUCER)"
   ]
  },
  {
   "cell_type": "code",
   "execution_count": 5,
   "metadata": {},
   "outputs": [],
   "source": [
    "def produce_messages(topic, messages):\n",
    "    \"\"\"Gửi các message vào Kafka\"\"\"\n",
    "    producer = Producer(kafka_config)\n",
    "    for message in messages:\n",
    "        try:\n",
    "            producer.produce(topic, message.encode('utf-8'), callback=delivery_report)\n",
    "        except BufferError:\n",
    "            print(\"Producer queue đầy, thử lại sau.\")\n",
    "        producer.poll(0)\n",
    "    producer.flush()\n",
    "    print(\"Tất cả message đã được produce\")"
   ]
  },
  {
   "cell_type": "markdown",
   "metadata": {},
   "source": [
    "### HÀM NHẬN DỮ LIỆU TỪ KAFKA VÀ LƯU VÀO MONGODB (CONSUMER)"
   ]
  },
  {
   "cell_type": "code",
   "execution_count": 6,
   "metadata": {},
   "outputs": [],
   "source": [
    "def consume_and_store_messages(topic, timeout=10):\n",
    "    \"\"\"Consume từ Kafka và lưu vào MongoDB\"\"\"\n",
    "    consumer_config = kafka_config.copy()\n",
    "    consumer_config.update({\n",
    "        'group.id': 'my_consumer_group',\n",
    "        'auto.offset.reset': 'earliest'\n",
    "    })\n",
    "    consumer = Consumer(consumer_config)\n",
    "    consumer.subscribe([topic])\n",
    "    \n",
    "    start_time = time.time()\n",
    "    print(\"Bắt đầu consume message...\")\n",
    "    \n",
    "    try:\n",
    "        while True:\n",
    "            msg = consumer.poll(1.0)\n",
    "            if msg is None:\n",
    "                if time.time() - start_time > timeout:\n",
    "                    break\n",
    "                continue\n",
    "            if msg.error():\n",
    "                if msg.error().code() == KafkaError._PARTITION_EOF:\n",
    "                    print(f\"Đã đọc hết dữ liệu ở partition: {msg.topic()} [{msg.partition()}]\")\n",
    "                else:\n",
    "                    print(\"Lỗi: {}\".format(msg.error()))\n",
    "                continue\n",
    "            \n",
    "            message_value = msg.value().decode('utf-8')\n",
    "            print(f\"Consumed: {message_value}\")\n",
    "            result = collection.insert_one({'message': message_value})\n",
    "            print(\"Đã insert document có id:\", result.inserted_id)\n",
    "    \n",
    "    except KeyboardInterrupt:\n",
    "        print(\"Dừng việc consume do KeyboardInterrupt\")\n",
    "    \n",
    "    finally:\n",
    "        consumer.close()\n",
    "    print(\"Kết thúc việc consume.\")"
   ]
  },
  {
   "cell_type": "markdown",
   "metadata": {},
   "source": [
    "### Gửi Message Vào Kafka (Test Producer)"
   ]
  },
  {
   "cell_type": "code",
   "execution_count": 7,
   "metadata": {},
   "outputs": [
    {
     "name": "stdout",
     "output_type": "stream",
     "text": [
      "Message delivered to project_kafka_mongo_1 [0] at offset 3\n",
      "Message delivered to project_kafka_mongo_1 [2] at offset 0\n",
      "Message delivered to project_kafka_mongo_1 [2] at offset 1\n",
      "Tất cả message đã được produce\n"
     ]
    }
   ],
   "source": [
    "topic = 'project_kafka_mongo_1'\n",
    "messages = [\n",
    "    \"Message 1: Say Hello to Kafka From Jupiter\",\n",
    "    \"Message 2: I am experimenting sending messages to Kafka\",\n",
    "    \"Message 3: And then save those messages to MongoDB\"\n",
    "]\n",
    "\n",
    "produce_messages(topic, messages)\n"
   ]
  },
  {
   "cell_type": "markdown",
   "metadata": {},
   "source": [
    "### Nhận Message Từ Kafka Và Lưu Vào MongoDB (Test Consumer)"
   ]
  },
  {
   "cell_type": "code",
   "execution_count": 8,
   "metadata": {},
   "outputs": [
    {
     "name": "stdout",
     "output_type": "stream",
     "text": [
      "Bắt đầu consume message...\n",
      "Consumed: Message 1: Say Hello to Kafka From Jupiter\n",
      "Đã insert document có id: 67b5f7844f52b5e487b730d0\n",
      "Consumed: Message 2: I am experimenting sending messages to Kafka\n",
      "Đã insert document có id: 67b5f7844f52b5e487b730d1\n",
      "Consumed: Message 3: And then save those messages to MongoDB\n",
      "Đã insert document có id: 67b5f7844f52b5e487b730d2\n",
      "Kết thúc việc consume.\n"
     ]
    }
   ],
   "source": [
    "consume_and_store_messages(topic, timeout=10)"
   ]
  },
  {
   "cell_type": "markdown",
   "metadata": {},
   "source": [
    "### Kiểm tra dữ liệu đã lưu trong MongoDB"
   ]
  },
  {
   "cell_type": "code",
   "execution_count": 9,
   "metadata": {},
   "outputs": [
    {
     "name": "stdout",
     "output_type": "stream",
     "text": [
      "{'_id': ObjectId('67b5f7844f52b5e487b730d0'), 'message': 'Message 1: Say Hello to Kafka From Jupiter'}\n",
      "{'_id': ObjectId('67b5f7844f52b5e487b730d1'), 'message': 'Message 2: I am experimenting sending messages to Kafka'}\n",
      "{'_id': ObjectId('67b5f7844f52b5e487b730d2'), 'message': 'Message 3: And then save those messages to MongoDB'}\n"
     ]
    }
   ],
   "source": [
    "for doc in collection.find():\n",
    "    print(doc)"
   ]
  }
 ],
 "metadata": {
  "kernelspec": {
   "display_name": "data_engineering",
   "language": "python",
   "name": "python3"
  },
  "language_info": {
   "codemirror_mode": {
    "name": "ipython",
    "version": 3
   },
   "file_extension": ".py",
   "mimetype": "text/x-python",
   "name": "python",
   "nbconvert_exporter": "python",
   "pygments_lexer": "ipython3",
   "version": "3.9.19"
  }
 },
 "nbformat": 4,
 "nbformat_minor": 2
}
